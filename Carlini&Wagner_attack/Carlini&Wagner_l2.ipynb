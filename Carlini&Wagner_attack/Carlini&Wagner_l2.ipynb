{
 "cells": [
  {
   "cell_type": "markdown",
   "id": "785a383a-5af5-413f-9330-a23ad35c16ae",
   "metadata": {},
   "source": [
    "# Exemple de l'attaque Carlini & Wagner l2 "
   ]
  },
  {
   "cell_type": "code",
   "execution_count": 98,
   "id": "e437bf86-8d1d-49a1-af4a-4ea3a7b80b03",
   "metadata": {},
   "outputs": [],
   "source": [
    "import torch\n",
    "import torch.nn as nn\n",
    "import torch.optim as optim\n",
    "import torchvision.transforms as transforms\n",
    "import torchvision.datasets as datasets\n",
    "from torch.utils.data import DataLoader\n",
    "\n",
    "import matplotlib.pyplot as plt\n",
    "import numpy as np"
   ]
  },
  {
   "cell_type": "markdown",
   "id": "b77f25db-96e5-4445-8b1d-d2a43c0a74fb",
   "metadata": {},
   "source": [
    "1) Mise en place d'un cnn pour MNIST"
   ]
  },
  {
   "cell_type": "code",
   "execution_count": 544,
   "id": "070faa1e-b8c0-47f8-8b7c-a11901178679",
   "metadata": {},
   "outputs": [],
   "source": [
    "# Définir le modèle CNN\n",
    "class SimpleCNN(nn.Module):\n",
    "    def __init__(self):\n",
    "        super(SimpleCNN, self).__init__()\n",
    "        \n",
    "        # Première couche convolutionnelle (1 canal d'entrée, 32 canaux de sortie, noyau 3x3)\n",
    "        self.conv1 = nn.Conv2d(1, 32, kernel_size=3, padding=1)\n",
    "        # Deuxième couche convolutionnelle (32 canaux d'entrée, 64 canaux de sortie, noyau 3x3)\n",
    "        self.conv2 = nn.Conv2d(32, 64, kernel_size=3, padding=1)\n",
    "        \n",
    "        # Couches entièrement connectées (Aplatissement en 1D puis 10 classes pour la sortie)\n",
    "        self.fc1 = nn.Linear(64 * 7 * 7, 128)  # La taille de l'entrée est 64x7x7 après le pooling\n",
    "        self.fc2 = nn.Linear(128, 10)  # 10 classes pour MNIST (0 à 9)\n",
    "        \n",
    "        # Couches de MaxPooling pour réduire les dimensions spatiales\n",
    "        self.pool = nn.MaxPool2d(2, 2)\n",
    "\n",
    "        # Couche de Dropout pour la régularisation (éviter le sur-apprentissage)\n",
    "        self.dropout = nn.Dropout(0.25)\n",
    "\n",
    "    def forward(self, x):\n",
    "        # Appliquer la première couche convolutionnelle suivie de ReLU et MaxPool\n",
    "        x = self.pool(torch.relu(self.conv1(x)))\n",
    "        \n",
    "        # Appliquer la deuxième couche convolutionnelle suivie de ReLU et MaxPool\n",
    "        x = self.pool(torch.relu(self.conv2(x)))\n",
    "        \n",
    "        # Aplatir les données 2D en 1D pour les couches entièrement connectées\n",
    "        x = x.view(-1, 64 * 7 * 7)  # Aplatir en un vecteur de taille 64 * 7 * 7\n",
    "        \n",
    "        # Appliquer la première couche entièrement connectée suivie de ReLU et Dropout\n",
    "        x = torch.relu(self.fc1(x))\n",
    "        x = self.dropout(x)  # Appliquer le dropout pour la régularisation\n",
    "        \n",
    "        # Couches de sortie avec 10 classes\n",
    "        x = self.fc2(x)\n",
    "        \n",
    "        return x\n"
   ]
  },
  {
   "cell_type": "code",
   "execution_count": 546,
   "id": "240a8412-5551-4b31-80d0-f965fec30a5c",
   "metadata": {},
   "outputs": [],
   "source": [
    "device = torch.device(\"cpu\")"
   ]
  },
  {
   "cell_type": "code",
   "execution_count": 548,
   "id": "21849ed6-8a46-4cb0-bcfe-005a2346d6f5",
   "metadata": {},
   "outputs": [],
   "source": [
    "# Transformations à appliquer aux images du dataset MNIST\n",
    "transform = transforms.Compose([\n",
    "    transforms.ToTensor(),  # Convertir les images en tenseurs PyTorch\n",
    "    transforms.Normalize((0.5,), (0.5,))  # Normaliser avec une moyenne et un écart-type de 0.5\n",
    "])"
   ]
  },
  {
   "cell_type": "code",
   "execution_count": 550,
   "id": "e488a1bb-81f7-4547-a88a-c9ad77bec372",
   "metadata": {},
   "outputs": [],
   "source": [
    "# Charger le dataset MNIST\n",
    "train_dataset = datasets.MNIST(root='./data', train=True, download=True, transform=transform)\n",
    "test_dataset = datasets.MNIST(root='./data', train=False, download=True, transform=transform)"
   ]
  },
  {
   "cell_type": "code",
   "execution_count": 552,
   "id": "02300e55-a141-4c06-9578-e9e5d8fde0cf",
   "metadata": {},
   "outputs": [],
   "source": [
    "# Créer les DataLoader pour l'entraînement et les tests\n",
    "train_loader = DataLoader(train_dataset, batch_size=64, shuffle=True)\n",
    "test_loader = DataLoader(test_dataset, batch_size=1, shuffle=False)"
   ]
  },
  {
   "cell_type": "code",
   "execution_count": 554,
   "id": "8d3bed4c-6ee5-4911-8b09-8401efada547",
   "metadata": {},
   "outputs": [],
   "source": [
    "# Initialiser le modèle, la fonction de perte et l'optimiseur\n",
    "model = SimpleCNN().to(device)\n",
    "criterion = nn.CrossEntropyLoss()  # Pour la classification multi-classes\n",
    "optimizer = optim.Adam(model.parameters(), lr=0.001)"
   ]
  },
  {
   "cell_type": "code",
   "execution_count": 556,
   "id": "cf33cc0f-26b0-4893-aeb1-f6045b888187",
   "metadata": {},
   "outputs": [
    {
     "name": "stdout",
     "output_type": "stream",
     "text": [
      "Époque [1/1], Perte: 0.1818, Précision: 94.44%\n"
     ]
    }
   ],
   "source": [
    "# Boucle d'entraînement\n",
    "num_epochs = 1\n",
    "for epoch in range(num_epochs):\n",
    "    model.train()  # Mettre le modèle en mode entraînement\n",
    "    running_loss = 0.0\n",
    "    correct = 0\n",
    "    total = 0\n",
    "\n",
    "    for data, target in train_loader:\n",
    "        data, target = data.to(device), target.to(device)\n",
    "        \n",
    "        optimizer.zero_grad()  # Réinitialiser les gradients avant chaque étape\n",
    "        \n",
    "        # Passage avant (forward pass)\n",
    "        output = model(data)\n",
    "        \n",
    "        # Calcul de la perte\n",
    "        loss = criterion(output, target)\n",
    "        \n",
    "        # Passage arrière (backward pass) et optimisation\n",
    "        loss.backward()\n",
    "        optimizer.step()\n",
    "        \n",
    "        running_loss += loss.item()\n",
    "        \n",
    "        # Calcul de la précision\n",
    "        _, predicted = torch.max(output, 1)\n",
    "        total += target.size(0)\n",
    "        correct += (predicted == target).sum().item()\n",
    "\n",
    "    # Afficher les statistiques pour chaque époque\n",
    "    print(f\"Époque [{epoch+1}/{num_epochs}], Perte: {running_loss/len(train_loader):.4f}, Précision: {100 * correct/total:.2f}%\")\n"
   ]
  },
  {
   "cell_type": "markdown",
   "id": "7cc0342e-b88d-4330-9f64-13a023c04e64",
   "metadata": {},
   "source": [
    "2) Création de l'attaque"
   ]
  },
  {
   "cell_type": "code",
   "execution_count": 624,
   "id": "779817c7-75f9-4aaa-ac37-df05ff14eb1e",
   "metadata": {},
   "outputs": [],
   "source": [
    "def cw_attack(model, x, y, gamma=1e-3, c_init=1e-2, c_upper=50, b_steps=100, kappa=0.1, lr=1e-3, max_iter=1000):\n",
    "    # Normalisation de l'entrée\n",
    "    x_min, x_max = x.min(), x.max()\n",
    "    x = (x - x_min) / (x_max - x_min)\n",
    "    x = torch.atanh((2 * x - 1) * gamma)  # Transformation arctanh\n",
    "    x_adv = x.clone().detach().requires_grad_(True)\n",
    "    \n",
    "    # Initialisation des paramètres de recherche binaire\n",
    "    c_lower, c, c_double = 0, c_init, True\n",
    "    l_min = float('inf')\n",
    "    \n",
    "    # Boucle de recherche binaire\n",
    "    while b_steps > 0 and c < c_upper:\n",
    "        x_new = minimize_objective(model, x_adv, x, c, y, kappa, lr, max_iter)  # Minimisation de l'objectif\n",
    "        \n",
    "        # Vérification si l'attaque réussit\n",
    "        with torch.no_grad():\n",
    "            pred = model(x_new).argmax(dim=1)\n",
    "        attack_success = (pred == y).all()\n",
    "        \n",
    "        if attack_success and torch.norm(x_new - x, p=2).item() < l_min:\n",
    "            print(\"success\")\n",
    "            l_min = torch.norm(x_new - x, p=2).item()\n",
    "            x_adv = x_new.clone()\n",
    "        \n",
    "        # Mise à jour du coefficient c\n",
    "        c, c_double = update_c(c, c_double, attack_success)\n",
    "        b_steps -= 1\n",
    "    \n",
    "    # Transformation inverse\n",
    "    x_adv = (torch.tanh(x_adv) / gamma + 1) / 2\n",
    "    x_adv = torch.clamp(x_adv * (x_max - x_min) + x_min, 0, 1)  # S'assurer que x_adv reste dans [0,1]\n",
    "    \n",
    "    return x_adv\n",
    "\n",
    "# Fonction de perte pour forcer la classe cible\n",
    "def loss_function(x_adv, x, c, y, kappa):\n",
    "    z = model(x_adv)\n",
    "    y_pred = z.gather(1, y.view(-1, 1)).squeeze(1)  # Score de la classe cible\n",
    "    z_other = torch.max(z + (y.view(-1, 1) == torch.arange(z.shape[1], device=x.device)).float() * -1e4, dim=1)[0]  # Max des autres classes\n",
    "    loss = torch.max(z_other - y_pred + kappa, torch.tensor(0.0, device=x.device)).mean()  # Force y comme prédiction\n",
    "    return loss + c * torch.norm(x_adv - x, p=2) ** 2  # Régularisation L2\n",
    "        \n",
    "# Fonction de minimisation avec Adam\n",
    "def minimize_objective(model, x_adv, x, c, y, kappa, lr=1e-3, max_iter=500):\n",
    "    optimizer = torch.optim.Adam([x_adv], lr=lr)\n",
    "    for _ in range(max_iter):\n",
    "        optimizer.zero_grad()\n",
    "        loss = loss_function(x_adv, x, c, y, kappa)\n",
    "        loss.backward()\n",
    "        optimizer.step()\n",
    "        x_adv.data = torch.clamp(x, -1, 1)  # Contrainte pour éviter des valeurs extrêmes\n",
    "    return x_adv.detach()\n",
    "\n",
    "# Mise à jour progressive de c\n",
    "def update_c(c, c_double, success):\n",
    "    if success:\n",
    "        c /= 2  # Réduction si l'attaque réussit\n",
    "    else:\n",
    "        c *= 2  # Augmentation si l'attaque échoue\n",
    "    return c, c_double\n"
   ]
  },
  {
   "cell_type": "markdown",
   "id": "3d82ea50-5f06-44d2-8b67-13e2b7e7fc5f",
   "metadata": {},
   "source": [
    "3) Execution de l'attaque"
   ]
  },
  {
   "cell_type": "code",
   "execution_count": 627,
   "id": "eba23007-7bb7-4dc4-81f6-67bc03de94f5",
   "metadata": {},
   "outputs": [],
   "source": [
    "# Exécution de l'attaque sur une seule image\n",
    "image, label = next(iter(test_loader))\n",
    "image, label = image.to(device), label.to(device)"
   ]
  },
  {
   "cell_type": "code",
   "execution_count": 629,
   "id": "b5b183a5-46c5-4918-95ed-cb61efcd892d",
   "metadata": {},
   "outputs": [],
   "source": [
    "# Génération de l'exemple adversarial \n",
    "target_label = 9\n",
    "adv_image = cw_attack(model, image, torch.tensor([target_label]).to(device))"
   ]
  },
  {
   "cell_type": "code",
   "execution_count": 630,
   "id": "6dc29b4c-ee16-4cba-bd7a-2f524b7aedcf",
   "metadata": {},
   "outputs": [],
   "source": [
    "import matplotlib.pyplot as plt\n",
    "import numpy as np"
   ]
  },
  {
   "cell_type": "code",
   "execution_count": 620,
   "id": "4bdc2ad3-1648-4305-a618-c8eaa7be92e2",
   "metadata": {},
   "outputs": [],
   "source": [
    "# Fonction d'affichage des résultats\n",
    "def imshow(img, title=\"\"):\n",
    "    img = img.cpu().detach().numpy().squeeze()\n",
    "    img = (img - img.min()) / (img.max() - img.min())  # Normalisation pour l'affichage\n",
    "    plt.imshow(img, cmap=\"gray\")\n",
    "    plt.title(title)\n",
    "    plt.axis(\"off\")\n",
    "    plt.show()"
   ]
  },
  {
   "cell_type": "code",
   "execution_count": 622,
   "id": "2a48ab89-0bd9-49b1-9d9d-59e1247adcb0",
   "metadata": {},
   "outputs": [
    {
     "data": {
      "image/png": "[encoded data removed]",
      "text/plain": [
       "<Figure size 640x480 with 1 Axes>"
      ]
     },
     "metadata": {},
     "output_type": "display_data"
    },
    {
     "name": "stdout",
     "output_type": "stream",
     "text": [
      "Prédiction initiale : 7\n"
     ]
    },
    {
     "data": {
      "image/png": "[encoded data removed]",
      "text/plain": [
       "<Figure size 640x480 with 1 Axes>"
      ]
     },
     "metadata": {},
     "output_type": "display_data"
    },
    {
     "name": "stdout",
     "output_type": "stream",
     "text": [
      "Prédiction après attaque : 7\n",
      "Probabilités par classe : [[3.3696906e-05 2.8772987e-04 3.7964359e-03 3.4129054e-03 4.1429248e-05\n",
      "  1.0354547e-05 1.8091919e-07 9.9166334e-01 1.3877836e-04 6.1513344e-04]]\n"
     ]
    }
   ],
   "source": [
    "# Afficher l'image originale et l'image attaquée\n",
    "imshow(image, title=f\"Original: {label.item()}\")\n",
    "pred = model(image).argmax(dim=1).item()\n",
    "print(f\"Prédiction initiale : {pred}\")\n",
    "\n",
    "imshow(adv_image, title=\"Adversarial Image\")\n",
    "pred_adv = model(adv_image).argmax(dim=1).item()\n",
    "print(f\"Prédiction après attaque : {pred_adv}\")\n",
    "\n",
    "with torch.no_grad():\n",
    "    logits = model(adv_image)  # Obtenir les logits\n",
    "    probs = F.softmax(logits, dim=1)  # Convertir en probabilités\n",
    "    print(\"Probabilités par classe :\", probs.cpu().numpy())"
   ]
  },
  {
   "cell_type": "code",
   "execution_count": null,
   "id": "302dc594-ee59-4cce-8fe1-2e9f838b3159",
   "metadata": {},
   "outputs": [],
   "source": []
  }
 ],
 "metadata": {
  "kernelspec": {
   "display_name": "Python 3 (ipykernel)",
   "language": "python",
   "name": "python3"
  },
  "language_info": {
   "codemirror_mode": {
    "name": "ipython",
    "version": 3
   },
   "file_extension": ".py",
   "mimetype": "text/x-python",
   "name": "python",
   "nbconvert_exporter": "python",
   "pygments_lexer": "ipython3",
   "version": "3.12.3"
  }
 },
 "nbformat": 4,
 "nbformat_minor": 5
}
